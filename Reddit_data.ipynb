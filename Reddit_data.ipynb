{
 "cells": [
  {
   "cell_type": "code",
   "execution_count": null,
   "metadata": {},
   "outputs": [],
   "source": [
    "import praw\n",
    "import pandas as pd\n"
   ]
  },
  {
   "cell_type": "code",
   "execution_count": 3,
   "metadata": {},
   "outputs": [
    {
     "name": "stderr",
     "output_type": "stream",
     "text": [
      "Version 7.7.1 of praw is outdated. Version 7.8.1 was released Friday October 25, 2024.\n"
     ]
    }
   ],
   "source": [
    "# Set the Reddit API connection information\n",
    "reddit = praw.Reddit(\n",
    "    client_id='JxbQexWYDDqDM8jI5ecAxA',       \n",
    "    client_secret='2qS0vmSeJR3JF0DXoBqDWIl-4-r5jA',  \n",
    "    user_agent='crypto_data_extraction',  # User-Agent called crypto_data_extraction\n",
    ")"
   ]
  },
  {
   "cell_type": "code",
   "execution_count": 4,
   "metadata": {},
   "outputs": [
    {
     "name": "stdout",
     "output_type": "stream",
     "text": [
      "True\n"
     ]
    }
   ],
   "source": [
    "# test if the instance is working use:\n",
    "print(reddit.read_only)"
   ]
  },
  {
   "cell_type": "code",
   "execution_count": 9,
   "metadata": {},
   "outputs": [],
   "source": [
    "def extract_crypto_data(keyword, subreddit='cryptocurrency', limit=50):\n",
    "    \"\"\"\n",
    "    Extract keyword related post data from a specified subreddit on Reddit\n",
    "    \"\"\"\n",
    "    try:\n",
    "        posts = reddit.subreddit(subreddit).search(keyword, limit=limit)  # keyword search\n",
    "        extracted_data = []\n",
    "\n",
    "        print(f\"Extracting post data about '{keyword}' from '{subreddit}'...\")\n",
    "        for post in posts:\n",
    "            extracted_data.append({\n",
    "                'Keyword': keyword,\n",
    "                'Title': post.title,       \n",
    "                'Content': post.selftext,   \n",
    "                'Score': post.score,        \n",
    "                'URL': post.url,           \n",
    "                'Created_UTC': post.created_utc, \n",
    "            })\n",
    "\n",
    "        print(f\"Successfully extracted post data for the {len(extracted_data)} bar on '{keyword}'.\")\n",
    "        return extracted_data\n",
    "\n",
    "    except Exception as e:\n",
    "        print(f\"Error while extracting '{keyword}' data: {e}\")\n",
    "        return []\n"
   ]
  },
  {
   "cell_type": "code",
   "execution_count": 10,
   "metadata": {},
   "outputs": [],
   "source": [
    "# save data\n",
    "def save_to_csv(data, filename):\n",
    "    \"\"\"\n",
    "    Save the extracted data\n",
    "    \"\"\"\n",
    "    try:\n",
    "        df = pd.DataFrame(data)\n",
    "        df.to_csv(filename, index=False)\n",
    "        print(f\"Data has been saved to {filename}.\")\n",
    "    except Exception as e:\n",
    "        print(f\"Error saving to CSV file: {e}\")\n"
   ]
  },
  {
   "cell_type": "code",
   "execution_count": 12,
   "metadata": {},
   "outputs": [
    {
     "name": "stdout",
     "output_type": "stream",
     "text": [
      "Extracting post data about 'Bitcoin' from 'cryptocurrency'...\n",
      "Successfully extracted post data for the 200 bar on 'Bitcoin'.\n",
      "Extracting post data about 'Ethereum' from 'cryptocurrency'...\n",
      "Successfully extracted post data for the 200 bar on 'Ethereum'.\n",
      "Data has been saved to bitcoin_data.csv.\n",
      "Data has been saved to ethereum_data.csv.\n",
      "Data has been saved to crypto_data_combined.csv.\n",
      "Data extraction completed!\n"
     ]
    }
   ],
   "source": [
    "\n",
    "if __name__ == \"__main__\":\n",
    "    # extract bitcon data\n",
    "    bitcoin_data = extract_crypto_data('Bitcoin', limit=200)\n",
    "\n",
    "    # extract ethereum\n",
    "    ethereum_data = extract_crypto_data('Ethereum', limit=200)\n",
    "\n",
    "    if bitcoin_data:\n",
    "        save_to_csv(bitcoin_data, 'reddit_data/bitcoin_data.csv')\n",
    "    if ethereum_data:\n",
    "        save_to_csv(ethereum_data, 'reddit_data/ethereum_data.csv')\n",
    "\n",
    "    # if both data exist, save both in one file\n",
    "    if bitcoin_data and ethereum_data:\n",
    "        combined_data = bitcoin_data + ethereum_data\n",
    "        save_to_csv(combined_data, 'reddit_data/crypto_data_combined.csv')\n",
    "\n",
    "    print(\"Data extraction completed!\")\n"
   ]
  }
 ],
 "metadata": {
  "kernelspec": {
   "display_name": "dsan5200",
   "language": "python",
   "name": "python3"
  },
  "language_info": {
   "codemirror_mode": {
    "name": "ipython",
    "version": 3
   },
   "file_extension": ".py",
   "mimetype": "text/x-python",
   "name": "python",
   "nbconvert_exporter": "python",
   "pygments_lexer": "ipython3",
   "version": "3.11.7"
  }
 },
 "nbformat": 4,
 "nbformat_minor": 2
}

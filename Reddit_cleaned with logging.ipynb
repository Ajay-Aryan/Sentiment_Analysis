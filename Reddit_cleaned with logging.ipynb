{
 "cells": [
  {
   "cell_type": "markdown",
   "metadata": {},
   "source": [
    "**Cleaned and processed Bitcoin & Ethereum data on Reddit**"
   ]
  },
  {
   "cell_type": "markdown",
   "metadata": {},
   "source": [
    "**praw** – Interacts with Reddit’s API to fetch posts and comments.\n",
    "**logging** – Tracks errors, warnings, and events for debugging.\n",
    "**dotenv** – Loads API keys securely from a .env file.\n",
    "\n",
    "**nltk** – For text processing and NLP tasks where:\n",
    "    stopwords – Removes common words like \"the\", \"is\", etc.\n",
    "    word_tokenize – Splits text into words for analysis."
   ]
  },
  {
   "cell_type": "code",
   "execution_count": 1,
   "metadata": {},
   "outputs": [],
   "source": [
    "import praw\n",
    "import pandas as pd\n",
    "import logging\n",
    "import os\n",
    "import re\n",
    "from datetime import datetime\n",
    "from dotenv import load_dotenv"
   ]
  },
  {
   "cell_type": "markdown",
   "metadata": {},
   "source": [
    "Tokens and stopwords needs to be downloaded\n",
    "client id and secrect needs to be loaded from the enviroment"
   ]
  },
  {
   "cell_type": "code",
   "execution_count": 2,
   "metadata": {},
   "outputs": [],
   "source": [
    "CUSTOM_STOPWORDS = {\"the\", \"is\", \"and\", \"in\", \"to\", \"of\", \"it\", \"on\", \"this\", \"for\", \"with\", \"as\", \"was\", \"that\", \"by\", \"at\"}\n"
   ]
  },
  {
   "cell_type": "markdown",
   "metadata": {},
   "source": [
    "Logging configuration to set the level of logging. "
   ]
  },
  {
   "cell_type": "code",
   "execution_count": 26,
   "metadata": {},
   "outputs": [],
   "source": [
    "#nltk.data.path.append(\"C:/Users/Ajay/nltk_data\")"
   ]
  },
  {
   "cell_type": "code",
   "execution_count": 3,
   "metadata": {},
   "outputs": [
    {
     "data": {
      "text/plain": [
       "True"
      ]
     },
     "execution_count": 3,
     "metadata": {},
     "output_type": "execute_result"
    }
   ],
   "source": [
    "load_dotenv()"
   ]
  },
  {
   "cell_type": "code",
   "execution_count": 4,
   "metadata": {},
   "outputs": [],
   "source": [
    "# Simple logging setup\n",
    "logging.basicConfig(\n",
    "    level=logging.INFO,\n",
    "    format='%(asctime)s - %(message)s'\n",
    ")"
   ]
  },
  {
   "cell_type": "code",
   "execution_count": 5,
   "metadata": {},
   "outputs": [],
   "source": [
    "class RedditScraper:\n",
    "    def __init__(self):\n",
    "        self.reddit = praw.Reddit(\n",
    "            client_id=os.getenv('REDDIT_CLIENT_ID'),\n",
    "            client_secret=os.getenv('REDDIT_CLIENT_SECRET'),\n",
    "            user_agent=os.getenv('REDDIT_USER_AGENT')\n",
    "        )\n",
    "        logging.info(\"Connected to Reddit API\")\n",
    "\n",
    "    def get_posts(self, keyword, subreddit='cryptocurrency', limit=5):\n",
    "        \"\"\"Simple post retrieval with error handling\"\"\"\n",
    "        try:\n",
    "            posts = self.reddit.subreddit(subreddit).search(\n",
    "                query=keyword, \n",
    "                limit=limit,\n",
    "                params={'sort': 'new'}\n",
    "            )\n",
    "            \n",
    "            results = []\n",
    "            for post in posts:\n",
    "                results.append({\n",
    "                    'keyword': keyword,\n",
    "                    'title': post.title,\n",
    "                    'content': post.selftext,\n",
    "                    'score': post.score,\n",
    "                    'url': post.url,\n",
    "                    'created_at': datetime.fromtimestamp(post.created_utc),\n",
    "                })\n",
    "            \n",
    "            logging.info(f\"Found {len(results)} posts for {keyword}\")\n",
    "            return results\n",
    "            \n",
    "        except Exception as e:\n",
    "            logging.error(f\"Error getting posts: {e}\")\n",
    "            return []"
   ]
  },
  {
   "cell_type": "markdown",
   "metadata": {},
   "source": [
    "After Data Cleaning, tokenization, missing data it needs to be saved in a csv file"
   ]
  },
  {
   "cell_type": "code",
   "execution_count": 6,
   "metadata": {},
   "outputs": [],
   "source": [
    "class DataManager:\n",
    "    @staticmethod\n",
    "    def clean_text(text):\n",
    "        \"\"\"Simplified but effective text cleaning pipeline\"\"\"\n",
    "        # Handle missing data\n",
    "        if not text or text.strip() == '':\n",
    "            return 'no_content'\n",
    "            \n",
    "        # Removing URLs, HTML tags, and emojis\n",
    "        text = re.sub(r'http\\S+', '', text)          # URLs\n",
    "        text = re.sub(r'<.*?>', '', text)            # HTML tags\n",
    "        text = re.sub(r'[^\\w\\s]', '', text)          # Special characters/emojis\n",
    "        \n",
    "        # Tokenization and stopword removal\n",
    "        #tokens = word_tokenize(text.lower())\n",
    "        tokens = text.lower().split()  # Simple tokenization using space\n",
    "        #stop_words = set(stopwords.words('english'))\n",
    "        stop_words = CUSTOM_STOPWORDS\n",
    "        tokens = [word for word in tokens if word not in stop_words]\n",
    "        \n",
    "        return ' '.join(tokens) if tokens else 'no_content'\n",
    "\n",
    "    @staticmethod\n",
    "    def save_data(data, name):\n",
    "        \"\"\"Save cleaned data to CSV\"\"\"\n",
    "        if not data:\n",
    "            logging.warning(\"No data to save\")\n",
    "            return\n",
    "            \n",
    "        df = pd.DataFrame(data)\n",
    "        df['content'] = df['content'].apply(DataManager.clean_text)\n",
    "        \n",
    "        os.makedirs('cleaned_data', exist_ok=True)\n",
    "        filename = f\"cleaned_data/{name}_clean_{datetime.now().date()}.csv\"\n",
    "        df.to_csv(filename, index=False)\n",
    "        logging.info(f\"Saved cleaned data to {filename}\")"
   ]
  },
  {
   "cell_type": "code",
   "execution_count": 7,
   "metadata": {},
   "outputs": [
    {
     "name": "stderr",
     "output_type": "stream",
     "text": [
      "2025-01-31 11:41:24,408 - Connected to Reddit API\n",
      "2025-01-31 11:41:25,101 - Found 5 posts for Bitcoin\n",
      "2025-01-31 11:41:25,117 - Saved cleaned data to cleaned_data/bitcoin_clean_2025-01-31.csv\n",
      "2025-01-31 11:41:25,397 - Found 5 posts for Ethereum\n",
      "2025-01-31 11:41:25,415 - Saved cleaned data to cleaned_data/ethereum_clean_2025-01-31.csv\n"
     ]
    }
   ],
   "source": [
    "if __name__ == \"__main__\":\n",
    "    scraper = RedditScraper()\n",
    "    \n",
    "    # Get and clean Bitcoin posts\n",
    "    bitcoin_posts = scraper.get_posts('Bitcoin', limit=5)\n",
    "    DataManager.save_data(bitcoin_posts, 'bitcoin')\n",
    "    \n",
    "    # Get and clean Ethereum posts\n",
    "    ethereum_posts = scraper.get_posts('Ethereum', limit=5)\n",
    "    DataManager.save_data(ethereum_posts, 'ethereum')"
   ]
  }
 ],
 "metadata": {
  "kernelspec": {
   "display_name": "Python 3",
   "language": "python",
   "name": "python3"
  },
  "language_info": {
   "codemirror_mode": {
    "name": "ipython",
    "version": 3
   },
   "file_extension": ".py",
   "mimetype": "text/x-python",
   "name": "python",
   "nbconvert_exporter": "python",
   "pygments_lexer": "ipython3",
   "version": "3.10.8"
  }
 },
 "nbformat": 4,
 "nbformat_minor": 2
}
